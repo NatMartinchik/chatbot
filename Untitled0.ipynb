{
  "nbformat": 4,
  "nbformat_minor": 0,
  "metadata": {
    "colab": {
      "name": "Untitled0.ipynb",
      "provenance": [],
      "toc_visible": true,
      "mount_file_id": "1nMsKOK0GKaBcPfuh-xTmQohd13f57GRd",
      "authorship_tag": "ABX9TyNerA+ntrL553lxL5/fhH42",
      "include_colab_link": true
    },
    "kernelspec": {
      "name": "python3",
      "display_name": "Python 3"
    }
  },
  "cells": [
    {
      "cell_type": "markdown",
      "metadata": {
        "id": "view-in-github",
        "colab_type": "text"
      },
      "source": [
        "<a href=\"https://colab.research.google.com/github/NatMartinchik/chatbot/blob/main/Untitled0.ipynb\" target=\"_parent\"><img src=\"https://colab.research.google.com/assets/colab-badge.svg\" alt=\"Open In Colab\"/></a>"
      ]
    },
    {
      "cell_type": "code",
      "metadata": {
        "id": "mxSCHVeFiHns",
        "outputId": "1a5fad22-c9fb-430a-82f3-2e3211635bb6",
        "colab": {
          "base_uri": "https://localhost:8080/"
        }
      },
      "source": [
        "%tensorflow_version 1.x\n",
        "!pip install tflearn\n",
        "import tflearn\n",
        "import numpy \n",
        "import nltk\n",
        "nltk.download('punkt')\n",
        "import tensorflow as tf\n",
        "import random\n",
        "import json\n",
        "from google.colab import drive\n",
        "drive.mount ('/content/gdrive')\n",
        "\n",
        "from nltk.stem.lancaster import  LancasterStemmer\n",
        "stemmer = LancasterStemmer()\n",
        "\n",
        "with open(\"/content/gdrive/MyDrive/intents.json\") as file:\n",
        "  data = json.load(file)\n",
        "\n",
        "words = []\n",
        "labels = []\n",
        "docs_x = []\n",
        "docs_y = []\n",
        "\n",
        "for intent in data [\"intents\"]:\n",
        "  for pattern  in intent[\"patterns\"]:\n",
        "    wrds = nltk.word_tokenize(pattern)\n",
        "    words.extend(wrds)\n",
        "    docs_x.append(wrds)\n",
        "    docs_y.append(intent[\"tag\"])\n",
        "\n",
        "  if intent[\"tag\"] not in labels:\n",
        "    labels.append(intent[\"tag\"])\n",
        "\n",
        "words = [stemmer.stem(w.lower()) for w in words if w != \"?\"]\n",
        "words = sorted(list(set(words)))\n",
        "\n",
        "labels = sorted(labels)\n",
        "\n",
        "training = []\n",
        "output = []\n",
        "\n",
        "out_empty = [0 for _ in range(len(labels))]\n",
        "\n",
        "for x, doc in enumerate(docs_x):\n",
        "  bag = []\n",
        "  wrds = [stemmer.stem(w.lower()) for w in doc]\n",
        "  for w in words:\n",
        "    if w in wrds:\n",
        "      bag.append(1)\n",
        "    else: \n",
        "      bag.append(0)\n",
        "\n",
        "    output_row =  out_empty[:]\n",
        "    output_row[labels.index(docs_y[x])] = 1\n",
        "\n",
        "    training.append(bag)\n",
        "    output.append(output_row)\n",
        "\n",
        "training = numpy.array(training)     \n",
        "output = numpy.array(output)\n",
        "\n",
        "tf.compat.v1.reset_default_graph()\n",
        "\n",
        "\n",
        "net = tflearn.input_data(shape=[None, len(training[0])])\n",
        "net = tflearn.fully_connected(net, 8)\n",
        "net = tflearn.fully_connected(net, 8)\n",
        "net = tflearn.fully_connected(net, len(output[0]), activation=\"softmax\")\n",
        "net = tflearn.regression(net)\n",
        "\n",
        "model = tflearn.DNN(net)\n",
        "model.fit(training, output, n_epoch=1000, batch_size=8, show_metric=True)\n",
        "model.save(\"model.tflearn\")"
      ],
      "execution_count": null,
      "outputs": [
        {
          "output_type": "stream",
          "text": [
            "Training Step: 5433  | total loss: \u001b[1m\u001b[32m0.00067\u001b[0m\u001b[0m | time: 0.239s\n",
            "\u001b[2K\r| Adam | epoch: 037 | loss: 0.00067 - acc: 1.0000 -- iter: 0264/1196\n"
          ],
          "name": "stdout"
        }
      ]
    }
  ]
}